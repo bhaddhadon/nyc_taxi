{
 "cells": [
  {
   "cell_type": "code",
   "execution_count": 2,
   "metadata": {},
   "outputs": [],
   "source": [
    "# from holidays.countries.united_states import US\n",
    "# import holidays\n",
    "from pyspark.sql import SparkSession\n",
    "import pyspark.sql.functions as F\n",
    "from pyspark.sql.functions import isnan, when, count, col, lit, udf\n",
    "from pyspark.sql.types import *\n",
    "from pyspark.sql.window import Window\n",
    "from pyspark.context import SparkContext\n",
    "import pandas as pd \n",
    "import numpy as np \n",
    "import re\n",
    "from geopy.geocoders import Nominatim\n",
    "from geopy.extra.rate_limiter import RateLimiter\n",
    "from geopy import distance\n",
    "import pickle\n",
    "import matplotlib.pyplot as plt\n",
    "import matplotlib\n",
    "import seaborn as sns\n",
    "import datetime\n",
    "from dateutil.relativedelta import relativedelta\n",
    "from functools import reduce\n",
    "from pyspark.ml.feature import Bucketizer, StringIndexer, OneHotEncoder\n",
    "from pyspark.ml.clustering import KMeans\n",
    "from pyspark.ml.evaluation import ClusteringEvaluator, RegressionEvaluator\n",
    "from pyspark.ml.feature import VectorAssembler, StandardScaler\n",
    "from pyspark.ml.regression import GBTRegressor\n",
    "from sklearn.ensemble import GradientBoostingRegressor\n",
    "from sklearn.inspection import partial_dependence, plot_partial_dependence, permutation_importance\n",
    "from sklearn.model_selection import train_test_split, GridSearchCV\n",
    "from sklearn.metrics import mean_squared_error\n",
    "import ssl\n",
    "from urllib import request\n",
    "from PIL import Image\n",
    "\n",
    "spark = SparkSession.builder.appName(\"tripDataCSVLoad\").getOrCreate()"
   ]
  },
  {
   "cell_type": "code",
   "execution_count": 3,
   "metadata": {},
   "outputs": [
    {
     "name": "stdout",
     "output_type": "stream",
     "text": [
      "14620414\n",
      "['trip_id', 'driver_id', 'pickup_latitude', 'pickup_longitude', 'pickup_area', 'dropoff_latitude', 'dropoff_longitude', 'geo_distance', 'pickup_hour', 'pickup_period', 'pickup_tow', 'fare_amount', 'tolls_amount', 'tip_amount', 'payment_type', 'trip_time_in_secs']\n"
     ]
    }
   ],
   "source": [
    "df_trip_fp =spark.read.parquet(\"spark-warehouse/trip_fare_tip_predict2\")\n",
    "print(df_trip_fp.count())\n",
    "print(df_trip_fp.schema.names)"
   ]
  },
  {
   "cell_type": "code",
   "execution_count": 4,
   "metadata": {},
   "outputs": [],
   "source": [
    "flgweekday = udf(lambda x: 0 if x in [0,6] else 1,IntegerType())\n",
    "\n",
    "df_trip_fp = df_trip_fp.withColumn('pickup_tow_epoch_seconds', F.unix_timestamp('pickup_tow'))\\\n",
    "    .withColumn('flg_weekday',flgweekday(F.dayofweek(F.to_timestamp(col('pickup_tow')))))"
   ]
  },
  {
   "cell_type": "markdown",
   "metadata": {},
   "source": [
    "## A) Fare Model"
   ]
  },
  {
   "cell_type": "code",
   "execution_count": 5,
   "metadata": {},
   "outputs": [
    {
     "name": "stdout",
     "output_type": "stream",
     "text": [
      "+--------------------+-----------+\n",
      "|round(prediction, 2)|fare_amount|\n",
      "+--------------------+-----------+\n",
      "|                7.97|        6.0|\n",
      "|                7.32|        8.5|\n",
      "|                25.9|       20.0|\n",
      "|               32.75|       29.0|\n",
      "|               14.44|       12.0|\n",
      "|               31.78|       27.5|\n",
      "|                7.41|        5.5|\n",
      "|                7.77|        8.5|\n",
      "|               18.22|       19.5|\n",
      "|                7.32|        4.5|\n",
      "+--------------------+-----------+\n",
      "only showing top 10 rows\n",
      "\n",
      "rmse is %.2f {3.735992954937598}\n",
      "mae is %.2f {2.5851915152340914}\n",
      "R² is %.2f {0.8100678129111804}\n"
     ]
    }
   ],
   "source": [
    "### Set features\n",
    "non_feature_cols = ['trip_id','driver_id','fare_amount','tip_amount','pickup_tow',\n",
    "                    'geo_distance','pickup_tow_epoch_seconds','pickup_period','pickup_area',\n",
    "                    'payment_type','tolls_amount','trip_time_in_secs']\n",
    "                    \n",
    "features_input = [i for i in df_trip_fp.columns if i not in non_feature_cols]\n",
    "\n",
    "assembler = VectorAssembler(inputCols= features_input, outputCol=\"features\")\n",
    "assembled_data = assembler.transform(df_trip_fp)\n",
    "scale=StandardScaler(inputCol='features',outputCol='standardized')\n",
    "data_scale=scale.fit(assembled_data.select('features'))\n",
    "data_scale_output=data_scale.transform(assembled_data)\n",
    "\n",
    "### Train/Test Split\n",
    "splits = data_scale_output.randomSplit([0.7, 0.3],seed=9000)\n",
    "train_df = splits[0]\n",
    "test_df = splits[1]\n",
    "\n",
    "target = 'fare_amount'\n",
    "gbt = GBTRegressor(featuresCol = 'standardized', labelCol=target)\n",
    "fitted = gbt.fit(train_df)\n",
    "pred = fitted.transform(test_df)\n",
    "\n",
    "pred.select(F.round(col(\"prediction\"),2), col('fare_amount'), ).show(10)\n",
    "\n",
    "evaluator = RegressionEvaluator(labelCol= target, predictionCol= \"prediction\", metricName=\"rmse\")\n",
    "rmse = evaluator.evaluate(pred)\n",
    "print('rmse is %.2f', {rmse})\n",
    "mae = evaluator.evaluate(pred, {evaluator.metricName: \"mae\"})\n",
    "print('mae is %.2f', {mae})\n",
    "r2 = evaluator.evaluate(pred, {evaluator.metricName: \"r2\"})\n",
    "print('R² is %.2f', {r2})"
   ]
  },
  {
   "cell_type": "code",
   "execution_count": 7,
   "metadata": {},
   "outputs": [
    {
     "data": {
      "text/html": [
       "<div>\n",
       "<style scoped>\n",
       "    .dataframe tbody tr th:only-of-type {\n",
       "        vertical-align: middle;\n",
       "    }\n",
       "\n",
       "    .dataframe tbody tr th {\n",
       "        vertical-align: top;\n",
       "    }\n",
       "\n",
       "    .dataframe thead th {\n",
       "        text-align: right;\n",
       "    }\n",
       "</style>\n",
       "<table border=\"1\" class=\"dataframe\">\n",
       "  <thead>\n",
       "    <tr style=\"text-align: right;\">\n",
       "      <th></th>\n",
       "      <th>Score</th>\n",
       "    </tr>\n",
       "  </thead>\n",
       "  <tbody>\n",
       "    <tr>\n",
       "      <th>pickup_latitude</th>\n",
       "      <td>0.316297</td>\n",
       "    </tr>\n",
       "    <tr>\n",
       "      <th>dropoff_latitude</th>\n",
       "      <td>0.243198</td>\n",
       "    </tr>\n",
       "    <tr>\n",
       "      <th>pickup_longitude</th>\n",
       "      <td>0.218228</td>\n",
       "    </tr>\n",
       "    <tr>\n",
       "      <th>dropoff_longitude</th>\n",
       "      <td>0.211112</td>\n",
       "    </tr>\n",
       "    <tr>\n",
       "      <th>pickup_hour</th>\n",
       "      <td>0.010868</td>\n",
       "    </tr>\n",
       "    <tr>\n",
       "      <th>flg_weekday</th>\n",
       "      <td>0.000297</td>\n",
       "    </tr>\n",
       "  </tbody>\n",
       "</table>\n",
       "</div>"
      ],
      "text/plain": [
       "                      Score\n",
       "pickup_latitude    0.316297\n",
       "dropoff_latitude   0.243198\n",
       "pickup_longitude   0.218228\n",
       "dropoff_longitude  0.211112\n",
       "pickup_hour        0.010868\n",
       "flg_weekday        0.000297"
      ]
     },
     "execution_count": 7,
     "metadata": {},
     "output_type": "execute_result"
    }
   ],
   "source": [
    "### Feature Importances\n",
    "\n",
    "fi = fitted.featureImportances.toArray()\n",
    "\n",
    "feat_imp = (pd.DataFrame(dict(zip(features_input, fi)), range(1))\n",
    "  .T.rename(columns={0:'Score'})\n",
    "  .sort_values(\"Score\", ascending =0)\n",
    "  )\n",
    "feat_imp"
   ]
  },
  {
   "cell_type": "code",
   "execution_count": 11,
   "metadata": {},
   "outputs": [],
   "source": [
    "### Save model\n",
    "fitted.save('models/fare_predictor')"
   ]
  },
  {
   "cell_type": "markdown",
   "metadata": {},
   "source": [
    "## B) Tip Model"
   ]
  },
  {
   "cell_type": "code",
   "execution_count": 10,
   "metadata": {},
   "outputs": [],
   "source": [
    "df_pickup_area = df_trip_fp.groupBy('pickup_area').count().sort(col('count').desc()).toPandas()\n",
    "pickup_area_list = [i for i in df_pickup_area.iloc[:6]['pickup_area'].unique()]\n",
    "\n",
    "consol_pickup_area = udf(lambda x: x if x in pickup_area_list else 'others',StringType())\n",
    "df_trip_fp = df_trip_fp.withColumn('pickup_area',consol_pickup_area(col('pickup_area')))"
   ]
  },
  {
   "cell_type": "code",
   "execution_count": 11,
   "metadata": {},
   "outputs": [
    {
     "name": "stdout",
     "output_type": "stream",
     "text": [
      "+--------------------+----------+\n",
      "|round(prediction, 2)|tip_amount|\n",
      "+--------------------+----------+\n",
      "|                 0.0|       0.0|\n",
      "|                 0.0|       0.0|\n",
      "|                3.74|       1.0|\n",
      "|                6.36|       5.9|\n",
      "|                 0.0|       0.0|\n",
      "|                6.36|       5.6|\n",
      "|                 0.0|       0.0|\n",
      "|                 0.0|       0.0|\n",
      "|                0.03|       0.0|\n",
      "|                 0.0|       0.0|\n",
      "+--------------------+----------+\n",
      "only showing top 10 rows\n",
      "\n",
      "rmse is %.2f {0.7897225262991144}\n",
      "mae is %.2f {0.3621675142386616}\n",
      "R² is %.2f {0.8054525748643373}\n"
     ]
    }
   ],
   "source": [
    "### Transform features pickup_area, payment_type\n",
    "\n",
    "pickup_indexer = StringIndexer(inputCol=\"pickup_area\", outputCol=\"pickup_area_index\")\n",
    "payment_indexer = StringIndexer(inputCol=\"payment_type\", outputCol=\"payment_type_index\")\n",
    "df_trip_fp_trfm = pickup_indexer.fit(df_trip_fp).transform(df_trip_fp)\n",
    "df_trip_fp_trfm = payment_indexer.fit(df_trip_fp_trfm).transform(df_trip_fp_trfm)\n",
    "\n",
    "#onehotencoder to pickup_area_index, payment_type_index\n",
    "onehotencoder_pickuparea_vector = OneHotEncoder(inputCol=\"pickup_area_index\", outputCol=\"pickup_area_vector\")\n",
    "onehotencoder_paymenttype_vector = OneHotEncoder(inputCol=\"payment_type_index\", outputCol=\"payment_type_vector\")\n",
    "df_trip_fp_trfm = onehotencoder_pickuparea_vector.fit(df_trip_fp_trfm).transform(df_trip_fp_trfm)\n",
    "df_trip_fp_trfm = onehotencoder_paymenttype_vector.fit(df_trip_fp_trfm).transform(df_trip_fp_trfm)\n",
    "\n",
    "### Set features\n",
    "non_feature_cols = ['trip_id','tip_amount','pickup_tow','pickup_period','pickup_area','payment_type',\n",
    "                    'pickup_area_index','payment_type_index','pickup_tow_epoch_seconds',\n",
    "                    'dropoff_latitude','dropoff_longitude']\n",
    "features_input = [i for i in df_trip_fp_trfm.columns if i not in non_feature_cols]\n",
    "\n",
    "assembler = VectorAssembler(inputCols= features_input, outputCol=\"features\")\n",
    "assembled_data = assembler.transform(df_trip_fp_trfm)\n",
    "scale=StandardScaler(inputCol='features',outputCol='standardized')\n",
    "data_scale=scale.fit(assembled_data.select('features'))\n",
    "data_scale_output=data_scale.transform(assembled_data)\n",
    "\n",
    "### Train/Test Split\n",
    "splits = data_scale_output.randomSplit([0.7, 0.3],seed=9000)\n",
    "train_df = splits[0]\n",
    "test_df = splits[1]\n",
    "\n",
    "target = 'tip_amount'\n",
    "gbt = GBTRegressor(featuresCol = 'standardized', labelCol=target)\n",
    "fitted = gbt.fit(train_df)\n",
    "pred = fitted.transform(test_df)\n",
    "\n",
    "pred.select(F.round(col(\"prediction\"),2), col('tip_amount'), ).show(10)\n",
    "\n",
    "evaluator = RegressionEvaluator(labelCol= target, predictionCol= \"prediction\", metricName=\"rmse\")\n",
    "rmse = evaluator.evaluate(pred)\n",
    "print('rmse is %.2f', {rmse})\n",
    "mae = evaluator.evaluate(pred, {evaluator.metricName: \"mae\"})\n",
    "print('mae is %.2f', {mae})\n",
    "r2 = evaluator.evaluate(pred, {evaluator.metricName: \"r2\"})\n",
    "print('R² is %.2f', {r2})"
   ]
  },
  {
   "cell_type": "code",
   "execution_count": 12,
   "metadata": {},
   "outputs": [
    {
     "data": {
      "text/html": [
       "<div>\n",
       "<style scoped>\n",
       "    .dataframe tbody tr th:only-of-type {\n",
       "        vertical-align: middle;\n",
       "    }\n",
       "\n",
       "    .dataframe tbody tr th {\n",
       "        vertical-align: top;\n",
       "    }\n",
       "\n",
       "    .dataframe thead th {\n",
       "        text-align: right;\n",
       "    }\n",
       "</style>\n",
       "<table border=\"1\" class=\"dataframe\">\n",
       "  <thead>\n",
       "    <tr style=\"text-align: right;\">\n",
       "      <th></th>\n",
       "      <th>Score</th>\n",
       "    </tr>\n",
       "  </thead>\n",
       "  <tbody>\n",
       "    <tr>\n",
       "      <th>fare_amount</th>\n",
       "      <td>0.440315</td>\n",
       "    </tr>\n",
       "    <tr>\n",
       "      <th>tolls_amount</th>\n",
       "      <td>0.012304</td>\n",
       "    </tr>\n",
       "    <tr>\n",
       "      <th>pickup_hour</th>\n",
       "      <td>0.005092</td>\n",
       "    </tr>\n",
       "    <tr>\n",
       "      <th>pickup_latitude</th>\n",
       "      <td>0.004293</td>\n",
       "    </tr>\n",
       "    <tr>\n",
       "      <th>pickup_longitude</th>\n",
       "      <td>0.002924</td>\n",
       "    </tr>\n",
       "    <tr>\n",
       "      <th>geo_distance</th>\n",
       "      <td>0.002037</td>\n",
       "    </tr>\n",
       "    <tr>\n",
       "      <th>payment_type_vector</th>\n",
       "      <td>0.000869</td>\n",
       "    </tr>\n",
       "    <tr>\n",
       "      <th>pickup_area_vector</th>\n",
       "      <td>0.000835</td>\n",
       "    </tr>\n",
       "    <tr>\n",
       "      <th>trip_time_in_secs</th>\n",
       "      <td>0.000777</td>\n",
       "    </tr>\n",
       "    <tr>\n",
       "      <th>driver_id</th>\n",
       "      <td>0.000007</td>\n",
       "    </tr>\n",
       "    <tr>\n",
       "      <th>flg_weekday</th>\n",
       "      <td>0.000000</td>\n",
       "    </tr>\n",
       "  </tbody>\n",
       "</table>\n",
       "</div>"
      ],
      "text/plain": [
       "                        Score\n",
       "fare_amount          0.440315\n",
       "tolls_amount         0.012304\n",
       "pickup_hour          0.005092\n",
       "pickup_latitude      0.004293\n",
       "pickup_longitude     0.002924\n",
       "geo_distance         0.002037\n",
       "payment_type_vector  0.000869\n",
       "pickup_area_vector   0.000835\n",
       "trip_time_in_secs    0.000777\n",
       "driver_id            0.000007\n",
       "flg_weekday          0.000000"
      ]
     },
     "execution_count": 12,
     "metadata": {},
     "output_type": "execute_result"
    }
   ],
   "source": [
    "### Feature Importances\n",
    "fi = fitted.featureImportances.toArray()\n",
    "\n",
    "feat_imp = (pd.DataFrame(dict(zip(features_input, fi)), range(1))\n",
    "  .T.rename(columns={0:'Score'})\n",
    "  .sort_values(\"Score\", ascending =0)\n",
    "  )\n",
    "feat_imp"
   ]
  },
  {
   "cell_type": "code",
   "execution_count": 13,
   "metadata": {},
   "outputs": [],
   "source": [
    "### Save model\n",
    "fitted.save('models/tip_predictor')"
   ]
  }
 ],
 "metadata": {
  "interpreter": {
   "hash": "c818777a6ad54da25b094a50dfb6e8ddd7f4bf040e5d0005aff88d6d371533f0"
  },
  "kernelspec": {
   "display_name": "Python 3.8.8 64-bit ('base': conda)",
   "name": "python3"
  },
  "language_info": {
   "codemirror_mode": {
    "name": "ipython",
    "version": 3
   },
   "file_extension": ".py",
   "mimetype": "text/x-python",
   "name": "python",
   "nbconvert_exporter": "python",
   "pygments_lexer": "ipython3",
   "version": "3.8.8"
  },
  "orig_nbformat": 4
 },
 "nbformat": 4,
 "nbformat_minor": 2
}
